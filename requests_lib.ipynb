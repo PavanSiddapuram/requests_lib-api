{
  "nbformat": 4,
  "nbformat_minor": 0,
  "metadata": {
    "colab": {
      "provenance": []
    },
    "kernelspec": {
      "name": "python3",
      "display_name": "Python 3"
    },
    "language_info": {
      "name": "python"
    }
  },
  "cells": [
    {
      "cell_type": "markdown",
      "source": [
        "Simple Project by using \"requests library api\" to Fetching Weather Data"
      ],
      "metadata": {
        "id": "V6DXStDLcTHT"
      }
    },
    {
      "cell_type": "markdown",
      "source": [
        "We'll use a free weather API to fetch current weather data for a specified city.\n",
        "\n"
      ],
      "metadata": {
        "id": "d63kBnoScwNZ"
      }
    },
    {
      "cell_type": "code",
      "execution_count": 1,
      "metadata": {
        "colab": {
          "base_uri": "https://localhost:8080/"
        },
        "id": "Xd7OYzXzb-Re",
        "outputId": "44d59021-1018-4d47-a052-e44b745b25c7"
      },
      "outputs": [
        {
          "output_type": "stream",
          "name": "stdout",
          "text": [
            "Requirement already satisfied: requests in /usr/local/lib/python3.11/dist-packages (2.32.3)\n",
            "Requirement already satisfied: charset-normalizer<4,>=2 in /usr/local/lib/python3.11/dist-packages (from requests) (3.4.1)\n",
            "Requirement already satisfied: idna<4,>=2.5 in /usr/local/lib/python3.11/dist-packages (from requests) (3.10)\n",
            "Requirement already satisfied: urllib3<3,>=1.21.1 in /usr/local/lib/python3.11/dist-packages (from requests) (2.3.0)\n",
            "Requirement already satisfied: certifi>=2017.4.17 in /usr/local/lib/python3.11/dist-packages (from requests) (2025.1.31)\n"
          ]
        }
      ],
      "source": [
        "pip install requests"
      ]
    },
    {
      "cell_type": "code",
      "source": [
        "import requests\n",
        "\n",
        "def get_weather(api_key, city):\n",
        "    \"\"\"Fetches weather data from OpenWeatherMap API.\"\"\"\n",
        "\n",
        "    base_url = \"http://api.openweathermap.org/data/2.5/weather\"\n",
        "    params = {\n",
        "        \"q\": city,\n",
        "        \"appid\": api_key,\n",
        "        \"units\": \"metric\"  # Use metric units (Celsius)\n",
        "    }\n",
        "\n",
        "    try:\n",
        "        response = requests.get(base_url, params=params)\n",
        "        response.raise_for_status()  # Raise HTTPError for bad responses (4xx or 5xx)\n",
        "        weather_data = response.json()\n",
        "        return weather_data\n",
        "    except requests.exceptions.RequestException as e:\n",
        "        print(f\"Error: {e}\")\n",
        "        return None\n",
        "\n",
        "def display_weather(weather_data):\n",
        "    \"\"\"Displays the weather information.\"\"\"\n",
        "    if weather_data:\n",
        "        city = weather_data[\"name\"]\n",
        "        temperature = weather_data[\"main\"][\"temp\"]\n",
        "        description = weather_data[\"weather\"][0][\"description\"]\n",
        "        humidity = weather_data[\"main\"][\"humidity\"]\n",
        "        print(f\"Weather in {city}:\")\n",
        "        print(f\"  Temperature: {temperature}°C\")\n",
        "        print(f\"  Description: {description}\")\n",
        "        print(f\"  Humidity: {humidity}%\")\n",
        "    else:\n",
        "        print(\"Could not retrieve weather data.\")\n",
        "\n",
        "if __name__ == \"__main__\":\n",
        "    api_key = \"7dcee2e0b3dbe16036b7253f81e5e4cc\"  # Replace with your actual API key\n",
        "    city = input(\"Enter city name: \")\n",
        "    weather_data = get_weather(api_key, city)\n",
        "    display_weather(weather_data)"
      ],
      "metadata": {
        "colab": {
          "base_uri": "https://localhost:8080/"
        },
        "id": "Wwq5SWHTcFpe",
        "outputId": "90954294-88be-4dbc-a55f-569519fabf89"
      },
      "execution_count": 2,
      "outputs": [
        {
          "output_type": "stream",
          "name": "stdout",
          "text": [
            "Enter city name: Japan\n",
            "Weather in Japan:\n",
            "  Temperature: 14.56°C\n",
            "  Description: scattered clouds\n",
            "  Humidity: 26%\n"
          ]
        }
      ]
    },
    {
      "cell_type": "code",
      "source": [],
      "metadata": {
        "id": "T-S_xQv0-dzt"
      },
      "execution_count": null,
      "outputs": []
    },
    {
      "cell_type": "markdown",
      "source": [
        "Project 2: Fetching Random jokes"
      ],
      "metadata": {
        "id": "b99KVnHE-fBs"
      }
    },
    {
      "cell_type": "code",
      "source": [
        "import requests\n",
        "\n",
        "def get_random_joke():\n",
        "    \"\"\"Fetches a random joke from JokeAPI.\"\"\"\n",
        "    url = \"https://v2.jokeapi.dev/joke/Any\"  # \"Any\" category includes all types of jokes\n",
        "\n",
        "    try:\n",
        "        response = requests.get(url)\n",
        "        response.raise_for_status()\n",
        "        joke_data = response.json()\n",
        "        return joke_data\n",
        "    except requests.exceptions.RequestException as e:\n",
        "        print(f\"Error: {e}\")\n",
        "        return None\n",
        "\n",
        "def display_joke(joke_data):\n",
        "    \"\"\"Displays the joke.\"\"\"\n",
        "    if joke_data:\n",
        "        if joke_data[\"type\"] == \"single\":\n",
        "            print(joke_data[\"joke\"])\n",
        "        elif joke_data[\"type\"] == \"twopart\":\n",
        "            print(joke_data[\"setup\"])\n",
        "            print(joke_data[\"delivery\"])\n",
        "        else:\n",
        "            print(\"Unexpected joke format.\")\n",
        "    else:\n",
        "        print(\"Could not retrieve joke.\")\n",
        "\n",
        "if __name__ == \"__main__\":\n",
        "    joke = get_random_joke()\n",
        "    display_joke(joke)"
      ],
      "metadata": {
        "colab": {
          "base_uri": "https://localhost:8080/"
        },
        "id": "d1qcX3VV-j5H",
        "outputId": "004d9565-3bf6-40af-ec0a-10c327f43ceb"
      },
      "execution_count": null,
      "outputs": [
        {
          "output_type": "stream",
          "name": "stdout",
          "text": [
            "Yo mama is so old, she knew Burger King while he was still a prince.\n"
          ]
        }
      ]
    },
    {
      "cell_type": "code",
      "source": [],
      "metadata": {
        "id": "56-NQWrL-kv7"
      },
      "execution_count": null,
      "outputs": []
    },
    {
      "cell_type": "markdown",
      "source": [
        "Project 3: Fetching Data from a Public API (e.g., IP Address Information)"
      ],
      "metadata": {
        "id": "El0G_ZPG-m2C"
      }
    },
    {
      "cell_type": "code",
      "source": [
        "import requests\n",
        "\n",
        "def get_ip_info():\n",
        "    \"\"\"Fetches IP address information.\"\"\"\n",
        "    url = \"http://ip-api.com/json/\"\n",
        "\n",
        "    try:\n",
        "        response = requests.get(url)\n",
        "        response.raise_for_status()\n",
        "        ip_data = response.json()\n",
        "        return ip_data\n",
        "    except requests.exceptions.RequestException as e:\n",
        "        print(f\"Error: {e}\")\n",
        "        return None\n",
        "\n",
        "def display_ip_info(ip_data):\n",
        "    \"\"\"Displays IP address information.\"\"\"\n",
        "    if ip_data:\n",
        "        print(f\"IP: {ip_data['query']}\")\n",
        "        print(f\"Country: {ip_data['country']}\")\n",
        "        print(f\"Region: {ip_data['regionName']}\")\n",
        "        print(f\"City: {ip_data['city']}\")\n",
        "        print(f\"ISP: {ip_data['isp']}\")\n",
        "    else:\n",
        "        print(\"Could not retrieve IP information.\")\n",
        "\n",
        "if __name__ == \"__main__\":\n",
        "    ip_info = get_ip_info()\n",
        "    display_ip_info(ip_info)"
      ],
      "metadata": {
        "colab": {
          "base_uri": "https://localhost:8080/"
        },
        "id": "CzmB1xWD-rOC",
        "outputId": "c2ac501d-27b0-4b7e-be4c-03b76922a564"
      },
      "execution_count": null,
      "outputs": [
        {
          "output_type": "stream",
          "name": "stdout",
          "text": [
            "IP: 34.86.182.30\n",
            "Country: United States\n",
            "Region: Washington, D.C.\n",
            "City: Washington\n",
            "ISP: Google LLC\n"
          ]
        }
      ]
    },
    {
      "cell_type": "code",
      "source": [
        "!apt-get install git"
      ],
      "metadata": {
        "id": "S1soxJes-us0",
        "colab": {
          "base_uri": "https://localhost:8080/"
        },
        "outputId": "b017c9d9-d362-4aed-81e6-7c77cc1022c3"
      },
      "execution_count": 3,
      "outputs": [
        {
          "output_type": "stream",
          "name": "stdout",
          "text": [
            "Reading package lists... Done\n",
            "Building dependency tree... Done\n",
            "Reading state information... Done\n",
            "git is already the newest version (1:2.34.1-1ubuntu1.12).\n",
            "0 upgraded, 0 newly installed, 0 to remove and 29 not upgraded.\n"
          ]
        }
      ]
    },
    {
      "cell_type": "code",
      "source": [],
      "metadata": {
        "id": "eOni5kbFtt6m"
      },
      "execution_count": 7,
      "outputs": []
    },
    {
      "cell_type": "code",
      "source": [],
      "metadata": {
        "id": "bpmmhcT3uBFJ"
      },
      "execution_count": null,
      "outputs": []
    }
  ]
}